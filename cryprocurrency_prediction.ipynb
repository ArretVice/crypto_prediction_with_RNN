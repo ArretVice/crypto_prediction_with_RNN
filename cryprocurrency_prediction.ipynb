{
  "nbformat": 4,
  "nbformat_minor": 0,
  "metadata": {
    "colab": {
      "name": "cryprocurrency_prediction.ipynb",
      "version": "0.3.2",
      "provenance": [],
      "collapsed_sections": [],
      "include_colab_link": true
    },
    "kernelspec": {
      "name": "python3",
      "display_name": "Python 3"
    },
    "accelerator": "GPU"
  },
  "cells": [
    {
      "cell_type": "markdown",
      "metadata": {
        "id": "view-in-github",
        "colab_type": "text"
      },
      "source": [
        "<a href=\"https://colab.research.google.com/github/ArretVice/crypto_prediction_with_RNN/blob/master/cryprocurrency_prediction.ipynb\" target=\"_parent\"><img src=\"https://colab.research.google.com/assets/colab-badge.svg\" alt=\"Open In Colab\"/></a>"
      ]
    },
    {
      "metadata": {
        "id": "AQ57fk3AkOyN",
        "colab_type": "text"
      },
      "cell_type": "markdown",
      "source": [
        "\n",
        "**Data preparation step**"
      ]
    },
    {
      "metadata": {
        "id": "UO4WyF-Q6yRl",
        "colab_type": "code",
        "colab": {}
      },
      "cell_type": "code",
      "source": [
        "from google.colab import files\n",
        "import pandas as pd\n",
        "import os\n",
        "import numpy as np\n",
        "from sklearn.preprocessing import MaxAbsScaler\n",
        "import pickle\n",
        "from collections import deque\n",
        "from keras.layers import Dense, LSTM, Dropout, CuDNNLSTM\n",
        "from keras.models import Sequential\n",
        "import keras\n",
        "from keras.optimizers import Adam\n",
        "from keras.callbacks import ModelCheckpoint\n",
        "from keras.models import load_model"
      ],
      "execution_count": 0,
      "outputs": []
    },
    {
      "metadata": {
        "id": "RGFMFnZzTMYp",
        "colab_type": "code",
        "colab": {}
      },
      "cell_type": "code",
      "source": [
        "# upload data files to work with\n",
        "# data files are stored in a dictionary called \"uploaded\", where keys are file names\n",
        "uploaded = files.upload()"
      ],
      "execution_count": 0,
      "outputs": []
    },
    {
      "metadata": {
        "id": "0gxpOYB_lE8B",
        "colab_type": "code",
        "colab": {}
      },
      "cell_type": "code",
      "source": [
        "# preprocessing data for training\n",
        "\n",
        "def dataframe_for_rnn(uploaded,days_to_predict=3,training_mode=True,last_n_days=None):\n",
        "  '''\n",
        "  Fucntion for preparing dataframe for generating sequences\n",
        "  ----\n",
        "  uploaded - dictionary that contains keys with file names\n",
        "  days_to_predict - number of days to predict prices (e.g. 3 means we predict prices for next 3 days). Default 3\n",
        "  training_mode - if True this mode creates target columns for days_to_predict days. Default True\n",
        "  last_n_days - if None, create dataframe from all available data, else only takes last n days. Default None\n",
        "  '''\n",
        "  main_df=pd.DataFrame()\n",
        "  for datafile in uploaded.keys():\n",
        "    df=pd.read_csv(datafile,\n",
        "                   names=['date','symbol','open','high','low','close','volume_from','volume_to'])\n",
        "    today_date=df.iloc[0,0][-10:] # stores the date for \"today\" - actually day for which data has been downloaded, string with format 'MM-DD-YYYY'\n",
        "    df=df.iloc[2:,:].reset_index()\n",
        "    df['volume']=df.volume_to.astype(dtype='float64')\n",
        "    df=df.set_index('date')\n",
        "    df=df[['close','volume']]\n",
        "    # renaming columns according to their corresponding currency\n",
        "    df=df.rename(columns={'close':f'close_{datafile[-12:-6]}','volume':f'volume_{datafile[-12:-6]}'})\n",
        "    if len(main_df)==0:\n",
        "      main_df=df\n",
        "    else:\n",
        "      main_df=main_df.join(df,how='outer')\n",
        "  df=main_df\n",
        "  \n",
        "  transformer=MaxAbsScaler()\n",
        "  \n",
        "  # if training mode enabled, we create target columns\n",
        "  if training_mode:\n",
        "    for day_forward in range(1,days_to_predict+1):\n",
        "      df[f'target_{day_forward}']=df.close_XRPUSD.shift(-day_forward)\n",
        "    df=df.dropna()\n",
        "    for col in df.columns:\n",
        "      df[col]=df[col].astype(dtype='float32')\n",
        "    \n",
        "    # separating target and feature columns\n",
        "    target_cols=[col for col in df.columns if col.startswith('target')]\n",
        "    feature_cols=[col for col in df.drop(target_cols,axis=1).columns]\n",
        "\n",
        "    for col in feature_cols:\n",
        "      df[col]=df[col].pct_change()\n",
        "    df=df.replace([np.inf, -np.inf], np.nan)\n",
        "    df=df.dropna()\n",
        "    \n",
        "  else:\n",
        "    df=df.dropna()\n",
        "    for col in df.columns:\n",
        "      df[col]=df[col].astype(dtype='float32')\n",
        "      df[col]=df[col].pct_change()\n",
        "    df=df.replace([np.inf, -np.inf], np.nan)\n",
        "    df=df.dropna()\n",
        "    feature_cols=df.columns\n",
        "    \n",
        "  df[feature_cols]=transformer.fit_transform(df[feature_cols])\n",
        "  \n",
        "  # picking up only last n days\n",
        "  if last_n_days!=None:\n",
        "    df=df[-last_n_days:]\n",
        "  return df"
      ],
      "execution_count": 0,
      "outputs": []
    },
    {
      "metadata": {
        "id": "Ew76cfFplOdI",
        "colab_type": "code",
        "colab": {}
      },
      "cell_type": "code",
      "source": [
        "# preparing sequences for training\n",
        "\n",
        "def get_sequences(df,window=30,training_mode=True):\n",
        "  '''\n",
        "  Function for generating sequences with given dataframe df, containing volumes and close prices\n",
        "  ----\n",
        "  window - length of one sequence in days, default is 30 days\n",
        "  training_mode - if True, returns tuple of sequences (X,y), else if False, returns single sequence\n",
        "  \n",
        "  '''\n",
        "  if training_mode:\n",
        "    sequences=[]\n",
        "    sliding_window=deque(maxlen=window)\n",
        "\n",
        "    # extracting days_to_predict from data frame\n",
        "    days_to_predict=len([col for col in df.columns if col.startswith('target')])\n",
        "\n",
        "    for value in df.values:\n",
        "      sliding_window.append(value[:-days_to_predict])\n",
        "      if len(sliding_window)==window:\n",
        "        sequences.append([np.asarray(sliding_window,dtype=np.float32),value[-days_to_predict:]])\n",
        "    np.random.shuffle(sequences)\n",
        "    X,y=[],[]\n",
        "    for features,targets in sequences:\n",
        "      X.append(features)\n",
        "      y.append(targets)\n",
        "    return np.asarray(X,dtype=np.float32),np.asarray(y,dtype=np.float32)\n",
        "  \n",
        "  else:\n",
        "    X=df[-window:].values\n",
        "    X=np.asarray(X,dtype=np.float32).reshape(1,X.shape[0],X.shape[1])\n",
        "    return X"
      ],
      "execution_count": 0,
      "outputs": []
    },
    {
      "metadata": {
        "id": "G2ZvvxR2Z0nf",
        "colab_type": "text"
      },
      "cell_type": "markdown",
      "source": [
        "**Training model on all available data**"
      ]
    },
    {
      "metadata": {
        "id": "peiDqd4cZ5YO",
        "colab_type": "code",
        "colab": {}
      },
      "cell_type": "code",
      "source": [
        "# data is for 10-22-2018, so we predict the next 3\n",
        "df=dataframe_for_rnn(uploaded,days_to_predict=3,training_mode=True,last_n_days=270)\n",
        "window_len=14\n",
        "X_train_all,y_train_all=get_sequences(df,window=window_len,training_mode=True)"
      ],
      "execution_count": 0,
      "outputs": []
    },
    {
      "metadata": {
        "id": "jIiWqr3Oc80G",
        "colab_type": "code",
        "colab": {}
      },
      "cell_type": "code",
      "source": [
        "# model\n",
        "model=Sequential()\n",
        "\n",
        "reg=keras.regularizers.l1_l2(l1=0.00001, l2=0.005)\n",
        "\n",
        "model.add(CuDNNLSTM(input_shape=X_train.shape[1:],units=64,return_sequences=True,\n",
        "               kernel_regularizer=None, recurrent_regularizer=reg, bias_regularizer=reg))\n",
        "model.add(CuDNNLSTM(128,return_sequences=True,\n",
        "               kernel_regularizer=None, recurrent_regularizer=reg, bias_regularizer=reg))\n",
        "model.add(CuDNNLSTM(units=128,\n",
        "               kernel_regularizer=None, recurrent_regularizer=reg, bias_regularizer=reg))\n",
        "\n",
        "model.add(Dense(128,activation='relu'))\n",
        "model.add(Dense(64,activation='relu'))\n",
        "\n",
        "model.add(Dense(days_to_predict))\n",
        "model.compile(optimizer=Adam(lr=0.007,decay=1e-9), loss='mean_squared_error', metrics=['mse'])\n",
        "model.fit(X_train_all,y_train_all,\n",
        "          epochs=100,\n",
        "          shuffle=False,batch_size=window_len)"
      ],
      "execution_count": 0,
      "outputs": []
    },
    {
      "metadata": {
        "id": "39mLqd5rdFsV",
        "colab_type": "code",
        "colab": {}
      },
      "cell_type": "code",
      "source": [
        "# create data for predicting\n",
        "df_predict=dataframe_for_rnn(uploaded,days_to_predict=3,training_mode=False,last_n_days=270)\n",
        "window_len=14\n",
        "X_predict_all=get_sequences(df_predict,window=window_len,training_mode=False)\n"
      ],
      "execution_count": 0,
      "outputs": []
    },
    {
      "metadata": {
        "id": "fDoGsALmfZ9n",
        "colab_type": "code",
        "colab": {
          "base_uri": "https://localhost:8080/",
          "height": 34
        },
        "outputId": "c6b0aa06-91c7-444e-f438-0a6d83b58581"
      },
      "cell_type": "code",
      "source": [
        "# predicting for october 23, 24 and 24\n",
        "# actual close prices are 0.4593, 0.4543, 0.4553\n",
        "predictions=model.predict(X_predict_all)\n",
        "\n",
        "print(predictions)"
      ],
      "execution_count": 23,
      "outputs": [
        {
          "output_type": "stream",
          "text": [
            "[[0.45503038 0.45542666 0.46703637]]\n"
          ],
          "name": "stdout"
        }
      ]
    }
  ]
}